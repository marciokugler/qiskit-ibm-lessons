{
 "cells": [
  {
   "cell_type": "code",
   "execution_count": 1,
   "metadata": {},
   "outputs": [
    {
     "data": {
      "text/latex": [
       "$$\n",
       "\n",
       "\\begin{bmatrix}\n",
       "\\frac{\\sqrt{2}}{2} & \\frac{\\sqrt{2}}{2}  \\\\\n",
       " \\frac{\\sqrt{2}}{2} & - \\frac{\\sqrt{2}}{2}  \\\\\n",
       " \\end{bmatrix}\n",
       "$$"
      ],
      "text/plain": [
       "<IPython.core.display.Latex object>"
      ]
     },
     "metadata": {},
     "output_type": "display_data"
    }
   ],
   "source": [
    "from qiskit.visualization import array_to_latex\n",
    "from qiskit.quantum_info import Statevector\n",
    "from qiskit.quantum_info.operators import Operator\n",
    "import math\n",
    "\n",
    "psi1 = Statevector([math.cos(math.pi/8),math.sin(math.pi/8)])\n",
    "psi2 = Statevector([math.cos(5*math.pi/8),math.sin(5*math.pi/8)])\n",
    "\n",
    "# When given a Statevector input, the Operator function returns the outer\n",
    "# product of that state vector with itself — or, in other words, the\n",
    "# product of the vector times its conjugate transpose.\n",
    "\n",
    "H = Operator(psi1) - Operator(psi2)\n",
    "\n",
    "display(array_to_latex(H))"
   ]
  },
  {
   "cell_type": "code",
   "execution_count": 2,
   "metadata": {},
   "outputs": [
    {
     "data": {
      "text/html": [
       "<pre style=\"word-wrap: normal;white-space: pre;background: #fff0;line-height: 1.1;font-family: &quot;Courier New&quot;,Courier,monospace\">           ░ ┌───┐          ┌───┐ ░ ┌─┐\n",
       "q_0: ──────░─┤ H ├─■────────┤ H ├─░─┤M├\n",
       "     ┌───┐ ░ └───┘ │P(7π/5) └───┘ ░ └╥┘\n",
       "q_1: ┤ X ├─░───────■──────────────░──╫─\n",
       "     └───┘ ░                      ░  ║ \n",
       "c: 1/════════════════════════════════╩═\n",
       "                                     0 </pre>"
      ],
      "text/plain": [
       "           ░ ┌───┐          ┌───┐ ░ ┌─┐\n",
       "q_0: ──────░─┤ H ├─■────────┤ H ├─░─┤M├\n",
       "     ┌───┐ ░ └───┘ │P(7π/5) └───┘ ░ └╥┘\n",
       "q_1: ┤ X ├─░───────■──────────────░──╫─\n",
       "     └───┘ ░                      ░  ║ \n",
       "c: 1/════════════════════════════════╩═\n",
       "                                     0 "
      ]
     },
     "metadata": {},
     "output_type": "display_data"
    }
   ],
   "source": [
    "from math import pi, cos, sin\n",
    "from qiskit import QuantumCircuit\n",
    "\n",
    "theta = 0.7 # Can be changed to any value between 0 and 1\n",
    "\n",
    "qc = QuantumCircuit(2, 1)\n",
    "\n",
    "# Prepare eigenvector, which is the |1> state\n",
    "\n",
    "qc.x(1)\n",
    "qc.barrier()\n",
    "\n",
    "# Implement the estimation procedure\n",
    "qc.h(0)\n",
    "qc.cp(2*pi*theta, 0, 1)\n",
    "qc.h(0)\n",
    "qc.barrier()\n",
    "\n",
    "# Perform the final measurement\n",
    "qc.measure(0, 0)\n",
    "\n",
    "# Draw the circuit\n",
    "display(qc.draw())"
   ]
  },
  {
   "cell_type": "code",
   "execution_count": 3,
   "metadata": {},
   "outputs": [
    {
     "data": {
      "text/plain": [
       "{0: 0.3454915028125262, 1: 0.6545084971874736}"
      ]
     },
     "metadata": {},
     "output_type": "display_data"
    }
   ],
   "source": [
    "from qiskit.primitives import Sampler\n",
    "display(Sampler().run(qc).result().quasi_dists[0])"
   ]
  },
  {
   "cell_type": "code",
   "execution_count": 4,
   "metadata": {},
   "outputs": [
    {
     "data": {
      "text/plain": [
       "{0: 0.34549150281252616, 1: 0.6545084971874737}"
      ]
     },
     "metadata": {},
     "output_type": "display_data"
    }
   ],
   "source": [
    "display({   # Calculate predicted results\n",
    "    0: cos(pi * theta) ** 2, \n",
    "    1: sin(pi * theta) ** 2\n",
    "})"
   ]
  },
  {
   "cell_type": "code",
   "execution_count": 5,
   "metadata": {},
   "outputs": [
    {
     "data": {
      "text/html": [
       "<pre style=\"word-wrap: normal;white-space: pre;background: #fff0;line-height: 1.1;font-family: &quot;Courier New&quot;,Courier,monospace\">           ░ ┌───┐ ░                       ░    ┌───┐                ░ ┌─┐   \n",
       "q_0: ──────░─┤ H ├─░──■────────────────────░──X─┤ H ├─■──────────────░─┤M├───\n",
       "           ░ ├───┤ ░  │                    ░  │ └───┘ │P(-π/2) ┌───┐ ░ └╥┘┌─┐\n",
       "q_1: ──────░─┤ H ├─░──┼─────────■──────────░──X───────■────────┤ H ├─░──╫─┤M├\n",
       "     ┌───┐ ░ └───┘ ░  │P(7π/5)  │P(14π/5)  ░                   └───┘ ░  ║ └╥┘\n",
       "q_2: ┤ X ├─░───────░──■─────────■──────────░─────────────────────────░──╫──╫─\n",
       "     └───┘ ░       ░                       ░                         ░  ║  ║ \n",
       "c: 2/═══════════════════════════════════════════════════════════════════╩══╩═\n",
       "                                                                        0  1 </pre>"
      ],
      "text/plain": [
       "           ░ ┌───┐ ░                       ░    ┌───┐                ░ ┌─┐   \n",
       "q_0: ──────░─┤ H ├─░──■────────────────────░──X─┤ H ├─■──────────────░─┤M├───\n",
       "           ░ ├───┤ ░  │                    ░  │ └───┘ │P(-π/2) ┌───┐ ░ └╥┘┌─┐\n",
       "q_1: ──────░─┤ H ├─░──┼─────────■──────────░──X───────■────────┤ H ├─░──╫─┤M├\n",
       "     ┌───┐ ░ └───┘ ░  │P(7π/5)  │P(14π/5)  ░                   └───┘ ░  ║ └╥┘\n",
       "q_2: ┤ X ├─░───────░──■─────────■──────────░─────────────────────────░──╫──╫─\n",
       "     └───┘ ░       ░                       ░                         ░  ║  ║ \n",
       "c: 2/═══════════════════════════════════════════════════════════════════╩══╩═\n",
       "                                                                        0  1 "
      ]
     },
     "metadata": {},
     "output_type": "display_data"
    }
   ],
   "source": [
    "from math import pi\n",
    "from qiskit import QuantumCircuit\n",
    "\n",
    "theta = .7\n",
    "qc = QuantumCircuit(3, 2)\n",
    "\n",
    "# Prepare the eigenvector\n",
    "qc.x(2)\n",
    "qc.barrier()\n",
    "\n",
    "# The initial Hadamard gates\n",
    "qc.h(0)\n",
    "qc.h(1)\n",
    "qc.barrier()\n",
    "\n",
    "# The controlled unitary gates\n",
    "qc.cp(2*pi*theta,0,2)\n",
    "qc.cp(2*pi*(2*theta),1,2)\n",
    "qc.barrier()\n",
    "\n",
    "# An implementation of the inverse of the two-qubit QFT\n",
    "qc.swap(0,1)\n",
    "qc.h(0)\n",
    "qc.cp(-pi/2,0,1)\n",
    "qc.h(1)\n",
    "qc.barrier()\n",
    "\n",
    "# And finally the measurements\n",
    "qc.measure([0, 1], [0, 1])\n",
    "display(qc.draw())"
   ]
  },
  {
   "cell_type": "code",
   "execution_count": 6,
   "metadata": {},
   "outputs": [
    {
     "data": {
      "image/png": "[encoded data removed]",
      "text/plain": [
       "<Figure size 700x500 with 1 Axes>"
      ]
     },
     "metadata": {},
     "output_type": "display_data"
    }
   ],
   "source": [
    "from qiskit.visualization import plot_histogram\n",
    "result = Sampler().run(qc).result()\n",
    "display(plot_histogram(result.quasi_dists))"
   ]
  },
  {
   "cell_type": "code",
   "execution_count": 7,
   "metadata": {},
   "outputs": [
    {
     "data": {
      "text/html": [
       "<pre style=\"word-wrap: normal;white-space: pre;background: #fff0;line-height: 1.1;font-family: &quot;Courier New&quot;,Courier,monospace\">                                                                          ┌───┐»\n",
       "q_0: ──────────────────────────────────────■─────────────■────────■───────┤ H ├»\n",
       "                                           │       ┌───┐ │        │P(π/2) └───┘»\n",
       "q_1: ────────────────────■────────■────────┼───────┤ H ├─┼────────■─────────X──»\n",
       "                   ┌───┐ │        │P(π/2)  │       └───┘ │P(π/4)            │  »\n",
       "q_2: ──────■───────┤ H ├─┼────────■────────┼─────────────■──────────────────X──»\n",
       "     ┌───┐ │P(π/2) └───┘ │P(π/4)           │P(π/8)                             »\n",
       "q_3: ┤ H ├─■─────────────■─────────────────■───────────────────────────────────»\n",
       "     └───┘                                                                     »\n",
       "«        \n",
       "«q_0: ─X─\n",
       "«      │ \n",
       "«q_1: ─┼─\n",
       "«      │ \n",
       "«q_2: ─┼─\n",
       "«      │ \n",
       "«q_3: ─X─\n",
       "«        </pre>"
      ],
      "text/plain": [
       "                                                                          ┌───┐»\n",
       "q_0: ──────────────────────────────────────■─────────────■────────■───────┤ H ├»\n",
       "                                           │       ┌───┐ │        │P(π/2) └───┘»\n",
       "q_1: ────────────────────■────────■────────┼───────┤ H ├─┼────────■─────────X──»\n",
       "                   ┌───┐ │        │P(π/2)  │       └───┘ │P(π/4)            │  »\n",
       "q_2: ──────■───────┤ H ├─┼────────■────────┼─────────────■──────────────────X──»\n",
       "     ┌───┐ │P(π/2) └───┘ │P(π/4)           │P(π/8)                             »\n",
       "q_3: ┤ H ├─■─────────────■─────────────────■───────────────────────────────────»\n",
       "     └───┘                                                                     »\n",
       "«        \n",
       "«q_0: ─X─\n",
       "«      │ \n",
       "«q_1: ─┼─\n",
       "«      │ \n",
       "«q_2: ─┼─\n",
       "«      │ \n",
       "«q_3: ─X─\n",
       "«        "
      ]
     },
     "metadata": {},
     "output_type": "display_data"
    }
   ],
   "source": [
    "from qiskit.circuit.library import QFT\n",
    "display(QFT(4).decompose().draw())"
   ]
  },
  {
   "cell_type": "code",
   "execution_count": 8,
   "metadata": {},
   "outputs": [
    {
     "data": {
      "text/html": [
       "<pre style=\"word-wrap: normal;white-space: pre;background: #fff0;line-height: 1.1;font-family: &quot;Courier New&quot;,Courier,monospace\">                 ░ ┌───┐                                                  »\n",
       "Control_0: ──────░─┤ H ├─■────────────────────────────────────────────────»\n",
       "                 ░ ├───┤ │                                                »\n",
       "Control_1: ──────░─┤ H ├─┼─────────■─────────■────────────────────────────»\n",
       "                 ░ ├───┤ │         │         │                            »\n",
       "Control_2: ──────░─┤ H ├─┼─────────┼─────────┼─────────■─────────■────────»\n",
       "           ┌───┐ ░ └───┘ │P(7π/5)  │P(7π/5)  │P(7π/5)  │P(7π/5)  │P(7π/5) »\n",
       "      |ψ>: ┤ X ├─░───────■─────────■─────────■─────────■─────────■────────»\n",
       "           └───┘ ░                                                        »\n",
       " Result: 3/═══════════════════════════════════════════════════════════════»\n",
       "                                                                          »\n",
       "«                                ░ ┌──────────┐┌─┐      \n",
       "«Control_0: ─────────────────────░─┤0         ├┤M├──────\n",
       "«                                ░ │          │└╥┘┌─┐   \n",
       "«Control_1: ─────────────────────░─┤1 IQFT_dg ├─╫─┤M├───\n",
       "«                                ░ │          │ ║ └╥┘┌─┐\n",
       "«Control_2: ─■─────────■─────────░─┤2         ├─╫──╫─┤M├\n",
       "«            │P(7π/5)  │P(7π/5)  ░ └──────────┘ ║  ║ └╥┘\n",
       "«      |ψ>: ─■─────────■─────────░──────────────╫──╫──╫─\n",
       "«                                ░              ║  ║  ║ \n",
       "« Result: 3/════════════════════════════════════╩══╩══╩═\n",
       "«                                               0  1  2 </pre>"
      ],
      "text/plain": [
       "                 ░ ┌───┐                                                  »\n",
       "Control_0: ──────░─┤ H ├─■────────────────────────────────────────────────»\n",
       "                 ░ ├───┤ │                                                »\n",
       "Control_1: ──────░─┤ H ├─┼─────────■─────────■────────────────────────────»\n",
       "                 ░ ├───┤ │         │         │                            »\n",
       "Control_2: ──────░─┤ H ├─┼─────────┼─────────┼─────────■─────────■────────»\n",
       "           ┌───┐ ░ └───┘ │P(7π/5)  │P(7π/5)  │P(7π/5)  │P(7π/5)  │P(7π/5) »\n",
       "      |ψ>: ┤ X ├─░───────■─────────■─────────■─────────■─────────■────────»\n",
       "           └───┘ ░                                                        »\n",
       " Result: 3/═══════════════════════════════════════════════════════════════»\n",
       "                                                                          »\n",
       "«                                ░ ┌──────────┐┌─┐      \n",
       "«Control_0: ─────────────────────░─┤0         ├┤M├──────\n",
       "«                                ░ │          │└╥┘┌─┐   \n",
       "«Control_1: ─────────────────────░─┤1 IQFT_dg ├─╫─┤M├───\n",
       "«                                ░ │          │ ║ └╥┘┌─┐\n",
       "«Control_2: ─■─────────■─────────░─┤2         ├─╫──╫─┤M├\n",
       "«            │P(7π/5)  │P(7π/5)  ░ └──────────┘ ║  ║ └╥┘\n",
       "«      |ψ>: ─■─────────■─────────░──────────────╫──╫──╫─\n",
       "«                                ░              ║  ║  ║ \n",
       "« Result: 3/════════════════════════════════════╩══╩══╩═\n",
       "«                                               0  1  2 "
      ]
     },
     "metadata": {},
     "output_type": "display_data"
    }
   ],
   "source": [
    "from qiskit import QuantumCircuit, QuantumRegister, ClassicalRegister\n",
    "from qiskit.circuit.library import QFT\n",
    "\n",
    "theta = .7\n",
    "m = 3 # Number of control qubits\n",
    "\n",
    "control_register = QuantumRegister(m, name=\"Control\")\n",
    "target_register = QuantumRegister(1, name=\"|ψ>\")\n",
    "output_register = ClassicalRegister(m, name=\"Result\")\n",
    "qc = QuantumCircuit(control_register, target_register, output_register)\n",
    "\n",
    "# Prepare the eigenvector |ψ>\n",
    "qc.x(target_register)\n",
    "qc.barrier()\n",
    "\n",
    "# Perform phase estimation\n",
    "for index, qubit in enumerate(control_register):\n",
    "    qc.h(qubit)\n",
    "    for _ in range(2**index):\n",
    "        qc.cp(2*pi*theta, qubit, target_register)\n",
    "qc.barrier()\n",
    "\n",
    "# Do inverse quantum Fourier transform\n",
    "qc.compose(\n",
    "    QFT(m, inverse=True),\n",
    "    inplace=True\n",
    ")\n",
    "\n",
    "# Measure everything\n",
    "qc.measure(range(m), range(m))\n",
    "display(qc.draw())"
   ]
  },
  {
   "cell_type": "code",
   "execution_count": 9,
   "metadata": {},
   "outputs": [
    {
     "data": {
      "image/png": "[encoded data removed]",
      "text/plain": [
       "<Figure size 700x500 with 1 Axes>"
      ]
     },
     "metadata": {},
     "output_type": "display_data"
    }
   ],
   "source": [
    "result = Sampler().run(qc).result()\n",
    "display(plot_histogram(result.quasi_dists))"
   ]
  }
 ],
 "metadata": {
  "kernelspec": {
   "display_name": "ibm",
   "language": "python",
   "name": "python3"
  },
  "language_info": {
   "codemirror_mode": {
    "name": "ipython",
    "version": 3
   },
   "file_extension": ".py",
   "mimetype": "text/x-python",
   "name": "python",
   "nbconvert_exporter": "python",
   "pygments_lexer": "ipython3",
   "version": "3.11.2"
  },
  "orig_nbformat": 4
 },
 "nbformat": 4,
 "nbformat_minor": 2
}
